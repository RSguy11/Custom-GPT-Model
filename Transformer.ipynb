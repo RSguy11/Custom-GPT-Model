{
 "cells": [
  {
   "cell_type": "markdown",
   "metadata": {},
   "source": [
    "This is where the Transformer Nureal Network will be constructed. It will be broken down in a juypter notebook for easier understanding "
   ]
  },
  {
   "cell_type": "markdown",
   "metadata": {},
   "source": [
    "Start by Opening the file I want to train the transformer on, and getting some of its value"
   ]
  },
  {
   "cell_type": "code",
   "execution_count": 15,
   "metadata": {},
   "outputs": [
    {
     "name": "stdout",
     "output_type": "stream",
     "text": [
      "FIle Size in MegaBytes is: 14.459291458129883\n",
      "num of charcaters in dataset 15161666\n"
     ]
    }
   ],
   "source": [
    "import os\n",
    "\n",
    "\n",
    "\n",
    "\n",
    "#getting the file statistics\n",
    "ca_test_data = \"ca_test_data_final_OFFICIAL.jsonl\"\n",
    "file_stats = os.stat(ca_test_data)\n",
    "\n",
    "# will print file size\n",
    "print(\"FIle Size in MegaBytes is:\", file_stats.st_size/(1024*1024))\n",
    "\n",
    "\n",
    "# Opening the file and putting it into the string varible text\n",
    "with open('ca_test_data_final_OFFICIAL.jsonl', 'r', encoding=\"utf-8\") as f:\n",
    "    text = f.read()\n",
    "\n",
    "\n",
    "print(\"num of charcaters in dataset\", len(text))"
   ]
  },
  {
   "cell_type": "markdown",
   "metadata": {},
   "source": [
    "Will now create a list of all the characters that occur in the file "
   ]
  },
  {
   "cell_type": "code",
   "execution_count": 16,
   "metadata": {},
   "outputs": [
    {
     "name": "stdout",
     "output_type": "stream",
     "text": [
      "The number of different characaters is 90\n"
     ]
    }
   ],
   "source": [
    "chars = list(set(text))\n",
    "chars.sort()\n",
    "\n",
    "print(\"The number of different characaters is\", len(chars))\n",
    "# This is the maximum number of different possible chacaters that model can emmit"
   ]
  },
  {
   "cell_type": "code",
   "execution_count": 17,
   "metadata": {},
   "outputs": [],
   "source": [
    "\n",
    "# creating a conversion method for characters to integers by having an \n",
    "# index for each element in char which becomes its integer value \n",
    "\n",
    "stoi = {ch:i for i, ch in enumerate(chars)}\n",
    "itos = {i:ch for i,ch in enumerate(chars)}\n",
    "\n",
    "# Then we use the creating mapping/dictionary to go though whatever is the \n",
    "# passesm char and convert/decode it from integer to array\n",
    "\n",
    "encoding = lambda s: [stoi[c] for c in s ]\n",
    "decoding = lambda l: ''.join([itos[i]] for i in l)\n",
    "\n"
   ]
  },
  {
   "cell_type": "markdown",
   "metadata": {},
   "source": [
    "That previous method tokenized via char. It is the simplist but not as effective for the goal of this model long term\n",
    "For this model the tokenizer will be SentencePiece. "
   ]
  },
  {
   "cell_type": "code",
   "execution_count": 19,
   "metadata": {},
   "outputs": [
    {
     "ename": "ModuleNotFoundError",
     "evalue": "No module named 'torch'",
     "output_type": "error",
     "traceback": [
      "\u001b[1;31m---------------------------------------------------------------------------\u001b[0m",
      "\u001b[1;31mModuleNotFoundError\u001b[0m                       Traceback (most recent call last)",
      "Cell \u001b[1;32mIn[19], line 1\u001b[0m\n\u001b[1;32m----> 1\u001b[0m \u001b[38;5;28;01mimport\u001b[39;00m \u001b[38;5;21;01mtorch\u001b[39;00m\n\u001b[0;32m      2\u001b[0m data \u001b[38;5;241m=\u001b[39m torch\u001b[38;5;241m.\u001b[39mtensor(encoding(text), dtype\u001b[38;5;241m=\u001b[39mtorch\u001b[38;5;241m.\u001b[39mlong)\n",
      "\u001b[1;31mModuleNotFoundError\u001b[0m: No module named 'torch'"
     ]
    }
   ],
   "source": [
    "\n",
    "data = torch.tensor(encoding(text), dtype=torch.long)"
   ]
  }
 ],
 "metadata": {
  "kernelspec": {
   "display_name": "Python 3",
   "language": "python",
   "name": "python3"
  },
  "language_info": {
   "codemirror_mode": {
    "name": "ipython",
    "version": 3
   },
   "file_extension": ".py",
   "mimetype": "text/x-python",
   "name": "python",
   "nbconvert_exporter": "python",
   "pygments_lexer": "ipython3",
   "version": "3.11.5"
  }
 },
 "nbformat": 4,
 "nbformat_minor": 2
}
